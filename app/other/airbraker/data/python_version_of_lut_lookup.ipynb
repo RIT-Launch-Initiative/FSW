{
 "cells": [
  {
   "cell_type": "code",
   "execution_count": 51,
   "metadata": {},
   "outputs": [],
   "source": [
    "import pandas as pd\n",
    "import numpy as np"
   ]
  },
  {
   "cell_type": "code",
   "execution_count": 52,
   "metadata": {},
   "outputs": [],
   "source": [
    "lower_file = '~/Clubs/Launch/Zephyr/FSW.git/app/other/airbraker/data/omen_quantile_luts/lower_bounds.csv'\n",
    "upper_file ='~/Clubs/Launch/Zephyr/FSW.git/app/other/airbraker/data/omen_quantile_luts/upper_bounds.csv'\n"
   ]
  },
  {
   "cell_type": "code",
   "execution_count": 53,
   "metadata": {},
   "outputs": [],
   "source": [
    "lower = pd.read_csv(lower_file)\n",
    "upper = pd.read_csv(upper_file)"
   ]
  },
  {
   "cell_type": "code",
   "execution_count": 54,
   "metadata": {},
   "outputs": [],
   "source": [
    "indices_agree = np,all(lower.alt == upper.alt)\n",
    "if not indices_agree:\n",
    "    print(\"Baseline assumption failed. indices dont agree\")"
   ]
  },
  {
   "cell_type": "code",
   "execution_count": 55,
   "metadata": {},
   "outputs": [],
   "source": [
    "minVal = lower.alt.iloc[0]\n",
    "maxVal = lower.alt.iloc[-1]\n",
    "num = len(lower.alt)"
   ]
  },
  {
   "cell_type": "code",
   "execution_count": 56,
   "metadata": {},
   "outputs": [
    {
     "name": "stdout",
     "output_type": "stream",
     "text": [
      "Bounds: 1200.0 to 3300.0 with 100 samples\n"
     ]
    }
   ],
   "source": [
    "print(f\"Bounds: {minVal} to {maxVal} with {num} samples\")"
   ]
  },
  {
   "cell_type": "code",
   "execution_count": null,
   "metadata": {},
   "outputs": [],
   "source": [
    "def gen_index(val, lo, hi, num_els):\n",
    "    if (val < lo): return 0, 0\n",
    "    if (val > hi): return num_els - 1, 0\n",
    "\n",
    "    find = (num-1) * (val - lo) / (hi-lo)\n",
    "\n",
    "    whole =  int(find)\n",
    "    frac = find-whole\n",
    "    if (whole >= num_els -1):\n",
    "        return hi-1, 0\n",
    "    \n",
    "    return whole, frac\n",
    "\n",
    "def lerp(amt, down, up):\n",
    "    return down * (1-amt) + up * amt\n",
    "\n",
    "def gen_both(whole, frac, lowers, uppers):\n",
    "    downL, upL = lowers[whole], lowers[whole+1]\n",
    "    downU, upU = uppers[whole], uppers[whole+1]\n",
    "    return lerp(frac, downL, upL), lerp(frac, downU, upU)\n",
    "\n",
    "def Q(z_hat_min, z_hat_max, z_hat):\n",
    "    val = (z_hat - z_hat_min)/ (z_hat_max - z_hat_min)\n",
    "    if (val > 1): return 1\n",
    "    if val < 0: return 0\n",
    "    return val"
   ]
  },
  {
   "cell_type": "code",
   "execution_count": 125,
   "metadata": {},
   "outputs": [
    {
     "name": "stdout",
     "output_type": "stream",
     "text": [
      "z_hat, z_dot_hat, z_hat_min, z_hat_max, effort\n",
      "1300, 240, 221.06191285714283, 262.7005742857143, 0.45481978750311836\n",
      "1900, 190, 177.95167, 198.74508, 0.5794302137071311\n",
      "1900, 180, 177.95167, 198.74508, 0.09850861402723235\n",
      "2200, 155, 155.05803428571429, 168.54802142857142, 0\n",
      "2900, 90, 90.21191900000001, 92.71914471428573, 0\n"
     ]
    }
   ],
   "source": [
    "print('z_hat, z_dot_hat, z_hat_min, z_hat_max, effort')\n",
    "for z_dot, z_dot_hat in [(1300, 240), (1900, 190), (1900, 180), (2200, 155), (2900, 90)]:\n",
    "    i, f = gen_index(z_dot, minVal, maxVal, num)\n",
    "    z_min, z_max = gen_both(i, f, lower.vel, upper.vel)\n",
    "    q = Q(z_min, z_max, z_dot_hat)\n",
    "    print(f\"{z_dot}, {z_dot_hat}, {z_min}, {z_max}, {q}\")"
   ]
  }
 ],
 "metadata": {
  "kernelspec": {
   "display_name": "python-3.13.3",
   "language": "python",
   "name": "python3"
  },
  "language_info": {
   "codemirror_mode": {
    "name": "ipython",
    "version": 3
   },
   "file_extension": ".py",
   "mimetype": "text/x-python",
   "name": "python",
   "nbconvert_exporter": "python",
   "pygments_lexer": "ipython3",
   "version": "3.13.7"
  }
 },
 "nbformat": 4,
 "nbformat_minor": 2
}
