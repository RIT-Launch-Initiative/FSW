{
 "cells": [
  {
   "cell_type": "markdown",
   "metadata": {},
   "source": [
    "# Data analysis script\n",
    "\n",
    "## Input\n",
    "a single file received from running `grim dump` on the payload\n",
    "\n",
    "## Output\n",
    "- FILL THIS IN"
   ]
  },
  {
   "cell_type": "code",
   "execution_count": 1,
   "metadata": {},
   "outputs": [],
   "source": [
    "import struct\n",
    "import base64\n",
    "from collections import namedtuple\n",
    "from typing import Tuple, List\n",
    "import pandas as pd\n",
    "import os\n"
   ]
  },
  {
   "cell_type": "markdown",
   "metadata": {},
   "source": [
    "## Data opening and parsing\n",
    "- open a file to bytes\n",
    "- bytes to lists of data"
   ]
  },
  {
   "cell_type": "code",
   "execution_count": 2,
   "metadata": {},
   "outputs": [],
   "source": [
    "SEPARATOR = \"********\\n\"\n",
    "filename = 'data/all.cap'\n",
    "ouptut_dir = 'out2'"
   ]
  },
  {
   "cell_type": "code",
   "execution_count": 3,
   "metadata": {},
   "outputs": [],
   "source": [
    "def file_to_bytes(filename: str) -> Tuple[bytes, bytes, bytes, bytes, bytes]:\n",
    "    with open(filename, 'r') as f:\n",
    "        parts = f.read().split(SEPARATOR)\n",
    "        if len(parts) != 5:\n",
    "            print(\"wrong number of parts. did you remove all extra lines on top and bottom\")\n",
    "        byte_parts = [base64.b64decode(part) for part in parts]\n",
    "        return tuple(byte_parts)"
   ]
  },
  {
   "cell_type": "code",
   "execution_count": 4,
   "metadata": {},
   "outputs": [],
   "source": [
    "SlowData = namedtuple('SlowData', ['timestamp', 'humidity', 'temperature', 'grim_voltage', 'grim_current', 'load_cell_voltage', 'load_cell_current', 'bat_voltage', 'bat_current'])\n",
    "FastData = namedtuple('FastData', ['timestamp', 'accx', 'accy', 'accz', 'gyrox', 'gyroy', 'gyroz', 'pressure'])\n",
    "ADCData = namedtuple('ADCData', ['timestamp', 'reading'])\n",
    "# PreIMUData is FastData\n",
    "PreALTData = namedtuple('PreALTData', ['timestamp', 'pressure', 'temperature'])\n"
   ]
  },
  {
   "cell_type": "code",
   "execution_count": 5,
   "metadata": {},
   "outputs": [],
   "source": [
    "slow_units = SlowData('ms', '% humidity', 'degrees C', 'mV', 'mA', 'mV', 'mA', 'mV', 'mA')\n",
    "fast_units = FastData('ms', 'm/s^2', 'm/s^2', 'm/s^2', 'rad/s',  'rad/s',  'rad/s', 'kPa')\n",
    "adc_units = ADCData('ms', 'LSB')\n",
    "pre_altitude_units = PreALTData('ms', 'kPa', 'degrees C')"
   ]
  },
  {
   "cell_type": "code",
   "execution_count": 6,
   "metadata": {},
   "outputs": [],
   "source": [
    "slow_fmt='IffHHHHHH' # timestamp, humid, temp, (voltage, current) * 3\n",
    "fast_fmt = 'Ifffffff' # timestamp accxyz, gyro xyz, press\n",
    "adc_fmt = 'Iiiiiiiiiii' # timestamp + 10 int32s\n",
    "imu_boost_detect_fmt = fast_fmt\n",
    "alt_boost_detect_fmt = 'Iff' # timestamp, press, temp"
   ]
  },
  {
   "cell_type": "code",
   "execution_count": 7,
   "metadata": {},
   "outputs": [
    {
     "ename": "FileNotFoundError",
     "evalue": "[Errno 2] No such file or directory: 'data/all.cap'",
     "output_type": "error",
     "traceback": [
      "\u001b[31m---------------------------------------------------------------------------\u001b[39m",
      "\u001b[31mFileNotFoundError\u001b[39m                         Traceback (most recent call last)",
      "\u001b[36mCell\u001b[39m\u001b[36m \u001b[39m\u001b[32mIn[7]\u001b[39m\u001b[32m, line 1\u001b[39m\n\u001b[32m----> \u001b[39m\u001b[32m1\u001b[39m slow_bs, fast_bs, adc_bs, pre_imu_bs, pre_alt_bs = \u001b[43mfile_to_bytes\u001b[49m\u001b[43m(\u001b[49m\u001b[43mfilename\u001b[49m\u001b[43m)\u001b[49m\n",
      "\u001b[36mCell\u001b[39m\u001b[36m \u001b[39m\u001b[32mIn[3]\u001b[39m\u001b[32m, line 2\u001b[39m, in \u001b[36mfile_to_bytes\u001b[39m\u001b[34m(filename)\u001b[39m\n\u001b[32m      1\u001b[39m \u001b[38;5;28;01mdef\u001b[39;00m\u001b[38;5;250m \u001b[39m\u001b[34mfile_to_bytes\u001b[39m(filename: \u001b[38;5;28mstr\u001b[39m) -> Tuple[\u001b[38;5;28mbytes\u001b[39m, \u001b[38;5;28mbytes\u001b[39m, \u001b[38;5;28mbytes\u001b[39m, \u001b[38;5;28mbytes\u001b[39m, \u001b[38;5;28mbytes\u001b[39m]:\n\u001b[32m----> \u001b[39m\u001b[32m2\u001b[39m     \u001b[38;5;28;01mwith\u001b[39;00m \u001b[38;5;28;43mopen\u001b[39;49m\u001b[43m(\u001b[49m\u001b[43mfilename\u001b[49m\u001b[43m,\u001b[49m\u001b[43m \u001b[49m\u001b[33;43m'\u001b[39;49m\u001b[33;43mr\u001b[39;49m\u001b[33;43m'\u001b[39;49m\u001b[43m)\u001b[49m \u001b[38;5;28;01mas\u001b[39;00m f:\n\u001b[32m      3\u001b[39m         parts = f.read().split(SEPARATOR)\n\u001b[32m      4\u001b[39m         \u001b[38;5;28;01mif\u001b[39;00m \u001b[38;5;28mlen\u001b[39m(parts) != \u001b[32m5\u001b[39m:\n",
      "\u001b[36mFile \u001b[39m\u001b[32m/usr/lib/python3.13/site-packages/IPython/core/interactiveshell.py:325\u001b[39m, in \u001b[36m_modified_open\u001b[39m\u001b[34m(file, *args, **kwargs)\u001b[39m\n\u001b[32m    318\u001b[39m \u001b[38;5;28;01mif\u001b[39;00m file \u001b[38;5;129;01min\u001b[39;00m {\u001b[32m0\u001b[39m, \u001b[32m1\u001b[39m, \u001b[32m2\u001b[39m}:\n\u001b[32m    319\u001b[39m     \u001b[38;5;28;01mraise\u001b[39;00m \u001b[38;5;167;01mValueError\u001b[39;00m(\n\u001b[32m    320\u001b[39m         \u001b[33mf\u001b[39m\u001b[33m\"\u001b[39m\u001b[33mIPython won\u001b[39m\u001b[33m'\u001b[39m\u001b[33mt let you open fd=\u001b[39m\u001b[38;5;132;01m{\u001b[39;00mfile\u001b[38;5;132;01m}\u001b[39;00m\u001b[33m by default \u001b[39m\u001b[33m\"\u001b[39m\n\u001b[32m    321\u001b[39m         \u001b[33m\"\u001b[39m\u001b[33mas it is likely to crash IPython. If you know what you are doing, \u001b[39m\u001b[33m\"\u001b[39m\n\u001b[32m    322\u001b[39m         \u001b[33m\"\u001b[39m\u001b[33myou can use builtins\u001b[39m\u001b[33m'\u001b[39m\u001b[33m open.\u001b[39m\u001b[33m\"\u001b[39m\n\u001b[32m    323\u001b[39m     )\n\u001b[32m--> \u001b[39m\u001b[32m325\u001b[39m \u001b[38;5;28;01mreturn\u001b[39;00m \u001b[43mio_open\u001b[49m\u001b[43m(\u001b[49m\u001b[43mfile\u001b[49m\u001b[43m,\u001b[49m\u001b[43m \u001b[49m\u001b[43m*\u001b[49m\u001b[43margs\u001b[49m\u001b[43m,\u001b[49m\u001b[43m \u001b[49m\u001b[43m*\u001b[49m\u001b[43m*\u001b[49m\u001b[43mkwargs\u001b[49m\u001b[43m)\u001b[49m\n",
      "\u001b[31mFileNotFoundError\u001b[39m: [Errno 2] No such file or directory: 'data/all.cap'"
     ]
    }
   ],
   "source": [
    "slow_bs, fast_bs, adc_bs, pre_imu_bs, pre_alt_bs = file_to_bytes(filename)"
   ]
  },
  {
   "cell_type": "code",
   "execution_count": null,
   "metadata": {},
   "outputs": [
    {
     "ename": "",
     "evalue": "",
     "output_type": "error",
     "traceback": [
      "\u001b[1;31mRunning cells with '/home/richie/.conda/envs/Centipede/bin/python' requires the ipykernel package.\n",
      "\u001b[1;31mRun the following command to install 'ipykernel' into the Python environment. \n",
      "\u001b[1;31mCommand: 'conda install -p /home/richie/.conda/envs/Centipede ipykernel --update-deps --force-reinstall'"
     ]
    }
   ],
   "source": [
    "def interpolate_adc(entries: List[List]) -> List[ADCData]:\n",
    "    l = []\n",
    "    for i, entry in enumerate(entries[:-1]):\n",
    "        start_time = entries[i][0]\n",
    "        period = entries[i+1][0] - entries[i][0]\n",
    "        per = period / 10.0\n",
    "        for j, sample in enumerate(entry[1:]): \n",
    "            l.append(ADCData(start_time + j * per, sample))\n",
    "    return l"
   ]
  },
  {
   "cell_type": "code",
   "execution_count": null,
   "metadata": {},
   "outputs": [
    {
     "ename": "",
     "evalue": "",
     "output_type": "error",
     "traceback": [
      "\u001b[1;31mRunning cells with '/home/richie/.conda/envs/Centipede/bin/python' requires the ipykernel package.\n",
      "\u001b[1;31mRun the following command to install 'ipykernel' into the Python environment. \n",
      "\u001b[1;31mCommand: 'conda install -p /home/richie/.conda/envs/Centipede ipykernel --update-deps --force-reinstall'"
     ]
    }
   ],
   "source": [
    "slow_lists = list(struct.iter_unpack(slow_fmt, slow_bs))\n",
    "fast_lists = list(struct.iter_unpack(fast_fmt, fast_bs))\n",
    "adc_lists = list(struct.iter_unpack(adc_fmt, adc_bs))\n",
    "pre_imu_lists = list(struct.iter_unpack(imu_boost_detect_fmt, pre_imu_bs))\n",
    "pre_alt_lists = list(struct.iter_unpack(alt_boost_detect_fmt, pre_alt_bs))\n"
   ]
  },
  {
   "cell_type": "code",
   "execution_count": null,
   "metadata": {},
   "outputs": [
    {
     "ename": "",
     "evalue": "",
     "output_type": "error",
     "traceback": [
      "\u001b[1;31mRunning cells with '/home/richie/.conda/envs/Centipede/bin/python' requires the ipykernel package.\n",
      "\u001b[1;31mRun the following command to install 'ipykernel' into the Python environment. \n",
      "\u001b[1;31mCommand: 'conda install -p /home/richie/.conda/envs/Centipede ipykernel --update-deps --force-reinstall'"
     ]
    }
   ],
   "source": [
    "def unit_slow_data(l: List) -> SlowData:\n",
    "    dr = SlowData(*l)\n",
    "    du = SlowData(dr.timestamp, dr.humidity, dr.temperature, 1.25 * dr.grim_voltage, 1.25 * dr.grim_voltage, 1.25 * dr.load_cell_voltage, 1.25 * dr.load_cell_current, 1.25 * dr.bat_voltage, 1.25 * dr.bat_current)\n",
    "    return du"
   ]
  },
  {
   "cell_type": "code",
   "execution_count": null,
   "metadata": {},
   "outputs": [
    {
     "ename": "",
     "evalue": "",
     "output_type": "error",
     "traceback": [
      "\u001b[1;31mRunning cells with '/home/richie/.conda/envs/Centipede/bin/python' requires the ipykernel package.\n",
      "\u001b[1;31mRun the following command to install 'ipykernel' into the Python environment. \n",
      "\u001b[1;31mCommand: 'conda install -p /home/richie/.conda/envs/Centipede ipykernel --update-deps --force-reinstall'"
     ]
    }
   ],
   "source": [
    "slow_data = [unit_slow_data(l) for l in slow_lists]\n",
    "fast_data = [FastData(*l) for l in fast_lists]\n",
    "adc_data = interpolate_adc(adc_lists)\n",
    "\n",
    "pre_imu_data_circ = [FastData(*l) for l in pre_imu_lists if l[0] != 0][:-14]\n",
    "# filter out timestamp = 0 (unwritten) entries\n",
    "# order by timestamp bc the circular buffer may not begin with the earliest entry\n",
    "pre_imu_data = sorted(pre_imu_data_circ, key = lambda d : d.timestamp)\n",
    "pre_alt_data = sorted([PreALTData(*l) for l in pre_alt_lists if l[0] != 0], key = lambda d : d.timestamp)"
   ]
  },
  {
   "cell_type": "code",
   "execution_count": null,
   "metadata": {},
   "outputs": [
    {
     "ename": "",
     "evalue": "",
     "output_type": "error",
     "traceback": [
      "\u001b[1;31mRunning cells with '/home/richie/.conda/envs/Centipede/bin/python' requires the ipykernel package.\n",
      "\u001b[1;31mRun the following command to install 'ipykernel' into the Python environment. \n",
      "\u001b[1;31mCommand: 'conda install -p /home/richie/.conda/envs/Centipede ipykernel --update-deps --force-reinstall'"
     ]
    }
   ],
   "source": []
  },
  {
   "cell_type": "code",
   "execution_count": null,
   "metadata": {},
   "outputs": [
    {
     "ename": "",
     "evalue": "",
     "output_type": "error",
     "traceback": [
      "\u001b[1;31mRunning cells with '/home/richie/.conda/envs/Centipede/bin/python' requires the ipykernel package.\n",
      "\u001b[1;31mRun the following command to install 'ipykernel' into the Python environment. \n",
      "\u001b[1;31mCommand: 'conda install -p /home/richie/.conda/envs/Centipede ipykernel --update-deps --force-reinstall'"
     ]
    }
   ],
   "source": [
    "slow_data_elapsed_s = (slow_data[-1].timestamp - slow_data[0].timestamp) / 1000.0\n",
    "fast_data_elapsed_s = (fast_data[-1].timestamp - fast_data[0].timestamp) / 1000.0\n",
    "adc_data_elapsed_s = (adc_data[-1].timestamp - adc_data[0].timestamp) / 1000.0\n",
    "\n",
    "flight_elapsed_s = adc_data_elapsed_s\n",
    "\n",
    "pre_alt_elapsed_ms = pre_alt_data[-1].timestamp - pre_alt_data[0].timestamp\n",
    "pre_imu_elapsed_ms = pre_imu_data[-1].timestamp - pre_imu_data[0].timestamp"
   ]
  },
  {
   "cell_type": "code",
   "execution_count": null,
   "metadata": {},
   "outputs": [
    {
     "ename": "",
     "evalue": "",
     "output_type": "error",
     "traceback": [
      "\u001b[1;31mRunning cells with '/home/richie/.conda/envs/Centipede/bin/python' requires the ipykernel package.\n",
      "\u001b[1;31mRun the following command to install 'ipykernel' into the Python environment. \n",
      "\u001b[1;31mCommand: 'conda install -p /home/richie/.conda/envs/Centipede ipykernel --update-deps --force-reinstall'"
     ]
    }
   ],
   "source": [
    "print(f\"IMU Buffer Time: {pre_imu_elapsed_ms} ms\")\n",
    "print(f\"ALT Buffer Time: {pre_alt_elapsed_ms} ms\")\n",
    "print(f\"Flight Time: {flight_elapsed_s} s\")"
   ]
  },
  {
   "cell_type": "code",
   "execution_count": null,
   "metadata": {},
   "outputs": [
    {
     "ename": "",
     "evalue": "",
     "output_type": "error",
     "traceback": [
      "\u001b[1;31mRunning cells with '/home/richie/.conda/envs/Centipede/bin/python' requires the ipykernel package.\n",
      "\u001b[1;31mRun the following command to install 'ipykernel' into the Python environment. \n",
      "\u001b[1;31mCommand: 'conda install -p /home/richie/.conda/envs/Centipede ipykernel --update-deps --force-reinstall'"
     ]
    }
   ],
   "source": [
    "percent_imu = 250 / pre_imu_elapsed_ms\n",
    "print(f\"Suggest {percent_imu} of current IMU Buffer size\")"
   ]
  },
  {
   "cell_type": "code",
   "execution_count": null,
   "metadata": {},
   "outputs": [
    {
     "ename": "",
     "evalue": "",
     "output_type": "error",
     "traceback": [
      "\u001b[1;31mRunning cells with '/home/richie/.conda/envs/Centipede/bin/python' requires the ipykernel package.\n",
      "\u001b[1;31mRun the following command to install 'ipykernel' into the Python environment. \n",
      "\u001b[1;31mCommand: 'conda install -p /home/richie/.conda/envs/Centipede ipykernel --update-deps --force-reinstall'"
     ]
    }
   ],
   "source": [
    "# calculate average period of each reading thread\n",
    "print(f\"{len(slow_data)} slow entries.  avg {flight_elapsed_s / len(slow_data)} second period\")\n",
    "print(f\"{len(fast_data)} fast entries.  avg {1000 * flight_elapsed_s / len(fast_data)} ms period\")\n",
    "print(f\"{len(adc_data)} adc entries.  avg {1000 * flight_elapsed_s / len(adc_data)} ms period\")\n"
   ]
  },
  {
   "cell_type": "code",
   "execution_count": null,
   "metadata": {},
   "outputs": [
    {
     "ename": "",
     "evalue": "",
     "output_type": "error",
     "traceback": [
      "\u001b[1;31mRunning cells with '/home/richie/.conda/envs/Centipede/bin/python' requires the ipykernel package.\n",
      "\u001b[1;31mRun the following command to install 'ipykernel' into the Python environment. \n",
      "\u001b[1;31mCommand: 'conda install -p /home/richie/.conda/envs/Centipede ipykernel --update-deps --force-reinstall'"
     ]
    }
   ],
   "source": [
    "slow_df = pd.DataFrame(slow_data)\n",
    "fast_df = pd.DataFrame(fast_data)\n",
    "adc_df = pd.DataFrame(adc_data)\n",
    "\n",
    "pre_imu_df = pd.DataFrame(pre_imu_data)\n",
    "pre_alt_df = pd.DataFrame(pre_alt_data)\n",
    "\n"
   ]
  },
  {
   "cell_type": "code",
   "execution_count": null,
   "metadata": {},
   "outputs": [
    {
     "ename": "",
     "evalue": "",
     "output_type": "error",
     "traceback": [
      "\u001b[1;31mRunning cells with '/home/richie/.conda/envs/Centipede/bin/python' requires the ipykernel package.\n",
      "\u001b[1;31mRun the following command to install 'ipykernel' into the Python environment. \n",
      "\u001b[1;31mCommand: 'conda install -p /home/richie/.conda/envs/Centipede ipykernel --update-deps --force-reinstall'"
     ]
    }
   ],
   "source": [
    "# set T=0 to start of boost accel buffer\n",
    "start = pre_imu_df['timestamp'][0]\n",
    "\n",
    "slow_df['timestamp'] = slow_df['timestamp'] - start\n",
    "fast_df['timestamp'] = fast_df['timestamp'] - start\n",
    "adc_df['timestamp'] = adc_df['timestamp'] - start\n",
    "\n",
    "pre_imu_df['timestamp'] = pre_imu_df['timestamp'] - start\n",
    "pre_alt_df['timestamp'] = pre_alt_df['timestamp'] - start"
   ]
  },
  {
   "cell_type": "code",
   "execution_count": null,
   "metadata": {},
   "outputs": [
    {
     "ename": "",
     "evalue": "",
     "output_type": "error",
     "traceback": [
      "\u001b[1;31mRunning cells with '/home/richie/.conda/envs/Centipede/bin/python' requires the ipykernel package.\n",
      "\u001b[1;31mRun the following command to install 'ipykernel' into the Python environment. \n",
      "\u001b[1;31mCommand: 'conda install -p /home/richie/.conda/envs/Centipede ipykernel --update-deps --force-reinstall'"
     ]
    }
   ],
   "source": [
    "def add_units_to_df(df: pd.DataFrame, units):\n",
    "    new_names = {}\n",
    "    for unit, (series_name, _) in zip(units, df.items()):\n",
    "        new_names[series_name] = f\"{series_name} ({unit})\"\n",
    "    return df.rename(columns=new_names)"
   ]
  },
  {
   "cell_type": "code",
   "execution_count": null,
   "metadata": {},
   "outputs": [
    {
     "ename": "",
     "evalue": "",
     "output_type": "error",
     "traceback": [
      "\u001b[1;31mRunning cells with '/home/richie/.conda/envs/Centipede/bin/python' requires the ipykernel package.\n",
      "\u001b[1;31mRun the following command to install 'ipykernel' into the Python environment. \n",
      "\u001b[1;31mCommand: 'conda install -p /home/richie/.conda/envs/Centipede ipykernel --update-deps --force-reinstall'"
     ]
    }
   ],
   "source": [
    "if not os.path.exists(ouptut_dir):\n",
    "    os.makedirs(ouptut_dir)\n",
    "\n",
    "add_units_to_df(slow_df, slow_units).to_csv(ouptut_dir+'/slow.csv', index=False)\n",
    "add_units_to_df(fast_df, fast_units).to_csv(ouptut_dir+'/fast.csv', index=False)\n",
    "add_units_to_df(adc_df, adc_units).to_csv(ouptut_dir+'/adc.csv', index=False)\n",
    "add_units_to_df(pre_alt_df, pre_altitude_units).to_csv(ouptut_dir+'/pre_imu.csv', index=False)\n",
    "add_units_to_df(pre_imu_df, fast_units).to_csv(ouptut_dir+'/pre_alt.csv', index=False)"
   ]
  },
  {
   "cell_type": "code",
   "execution_count": null,
   "metadata": {},
   "outputs": [
    {
     "ename": "",
     "evalue": "",
     "output_type": "error",
     "traceback": [
      "\u001b[1;31mRunning cells with '/home/richie/.conda/envs/Centipede/bin/python' requires the ipykernel package.\n",
      "\u001b[1;31mRun the following command to install 'ipykernel' into the Python environment. \n",
      "\u001b[1;31mCommand: 'conda install -p /home/richie/.conda/envs/Centipede ipykernel --update-deps --force-reinstall'"
     ]
    }
   ],
   "source": [
    "from functools import reduce\n",
    "\n",
    "all_dfs = [fast_df, slow_df, adc_df, pre_imu_df, pre_alt_df]\n",
    "\n",
    "df_merged = reduce(lambda  left,right: pd.merge(left,right,on=['timestamp'],\n",
    "                                            how='outer'), all_dfs)"
   ]
  },
  {
   "cell_type": "code",
   "execution_count": null,
   "metadata": {},
   "outputs": [
    {
     "ename": "",
     "evalue": "",
     "output_type": "error",
     "traceback": [
      "\u001b[1;31mRunning cells with '/home/richie/.conda/envs/Centipede/bin/python' requires the ipykernel package.\n",
      "\u001b[1;31mRun the following command to install 'ipykernel' into the Python environment. \n",
      "\u001b[1;31mCommand: 'conda install -p /home/richie/.conda/envs/Centipede ipykernel --update-deps --force-reinstall'"
     ]
    }
   ],
   "source": [
    "df_merged.interpolate(inplace=True, limit_direction='both')"
   ]
  },
  {
   "cell_type": "code",
   "execution_count": null,
   "metadata": {},
   "outputs": [
    {
     "ename": "",
     "evalue": "",
     "output_type": "error",
     "traceback": [
      "\u001b[1;31mRunning cells with '/home/richie/.conda/envs/Centipede/bin/python' requires the ipykernel package.\n",
      "\u001b[1;31mRun the following command to install 'ipykernel' into the Python environment. \n",
      "\u001b[1;31mCommand: 'conda install -p /home/richie/.conda/envs/Centipede ipykernel --update-deps --force-reinstall'"
     ]
    }
   ],
   "source": [
    "df_merged"
   ]
  },
  {
   "cell_type": "code",
   "execution_count": null,
   "metadata": {},
   "outputs": [
    {
     "ename": "",
     "evalue": "",
     "output_type": "error",
     "traceback": [
      "\u001b[1;31mRunning cells with '/home/richie/.conda/envs/Centipede/bin/python' requires the ipykernel package.\n",
      "\u001b[1;31mRun the following command to install 'ipykernel' into the Python environment. \n",
      "\u001b[1;31mCommand: 'conda install -p /home/richie/.conda/envs/Centipede ipykernel --update-deps --force-reinstall'"
     ]
    }
   ],
   "source": [
    "df_merged.sort_values('timestamp')"
   ]
  },
  {
   "cell_type": "code",
   "execution_count": null,
   "metadata": {},
   "outputs": [
    {
     "ename": "",
     "evalue": "",
     "output_type": "error",
     "traceback": [
      "\u001b[1;31mRunning cells with '/home/richie/.conda/envs/Centipede/bin/python' requires the ipykernel package.\n",
      "\u001b[1;31mRun the following command to install 'ipykernel' into the Python environment. \n",
      "\u001b[1;31mCommand: 'conda install -p /home/richie/.conda/envs/Centipede ipykernel --update-deps --force-reinstall'"
     ]
    }
   ],
   "source": [
    "df_merged.plot('timestamp')"
   ]
  },
  {
   "cell_type": "code",
   "execution_count": null,
   "metadata": {},
   "outputs": [
    {
     "ename": "",
     "evalue": "",
     "output_type": "error",
     "traceback": [
      "\u001b[1;31mRunning cells with '/home/richie/.conda/envs/Centipede/bin/python' requires the ipykernel package.\n",
      "\u001b[1;31mRun the following command to install 'ipykernel' into the Python environment. \n",
      "\u001b[1;31mCommand: 'conda install -p /home/richie/.conda/envs/Centipede ipykernel --update-deps --force-reinstall'"
     ]
    }
   ],
   "source": [
    "fast_df.plot('timestamp', title = \"Fast Sensors\")\n",
    "slow_df.plot('timestamp', title= \"Slow Sensors\")\n",
    "adc_df.plot('timestamp', title = \"ADC\")\n",
    "\n",
    "pre_imu_df.plot('timestamp', title = \"Boost Detect IMU\")\n",
    "pre_alt_df.plot('timestamp', title = \"Boost Detect Accel\")"
   ]
  },
  {
   "cell_type": "code",
   "execution_count": null,
   "metadata": {},
   "outputs": [
    {
     "ename": "",
     "evalue": "",
     "output_type": "error",
     "traceback": [
      "\u001b[1;31mRunning cells with '/home/richie/.conda/envs/Centipede/bin/python' requires the ipykernel package.\n",
      "\u001b[1;31mRun the following command to install 'ipykernel' into the Python environment. \n",
      "\u001b[1;31mCommand: 'conda install -p /home/richie/.conda/envs/Centipede ipykernel --update-deps --force-reinstall'"
     ]
    }
   ],
   "source": []
  },
  {
   "cell_type": "code",
   "execution_count": null,
   "metadata": {},
   "outputs": [
    {
     "ename": "",
     "evalue": "",
     "output_type": "error",
     "traceback": [
      "\u001b[1;31mRunning cells with '/home/richie/.conda/envs/Centipede/bin/python' requires the ipykernel package.\n",
      "\u001b[1;31mRun the following command to install 'ipykernel' into the Python environment. \n",
      "\u001b[1;31mCommand: 'conda install -p /home/richie/.conda/envs/Centipede ipykernel --update-deps --force-reinstall'"
     ]
    }
   ],
   "source": []
  },
  {
   "cell_type": "code",
   "execution_count": null,
   "metadata": {},
   "outputs": [
    {
     "ename": "",
     "evalue": "",
     "output_type": "error",
     "traceback": [
      "\u001b[1;31mRunning cells with '/home/richie/.conda/envs/Centipede/bin/python' requires the ipykernel package.\n",
      "\u001b[1;31mRun the following command to install 'ipykernel' into the Python environment. \n",
      "\u001b[1;31mCommand: 'conda install -p /home/richie/.conda/envs/Centipede ipykernel --update-deps --force-reinstall'"
     ]
    }
   ],
   "source": []
  }
 ],
 "metadata": {
  "kernelspec": {
   "display_name": "Python 3",
   "language": "python",
   "name": "python3"
  },
  "language_info": {
   "codemirror_mode": {
    "name": "ipython",
    "version": 3
   },
   "file_extension": ".py",
   "mimetype": "text/x-python",
   "name": "python",
   "nbconvert_exporter": "python",
   "pygments_lexer": "ipython3",
   "version": "3.12.4"
  }
 },
 "nbformat": 4,
 "nbformat_minor": 2
}
