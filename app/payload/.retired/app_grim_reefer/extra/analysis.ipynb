{
 "cells": [
  {
   "cell_type": "markdown",
   "metadata": {},
   "source": [
    "# Data analysis script\n",
    "\n",
    "## Input\n",
    "a single file received from running `grim dump` on the payload\n",
    "\n",
    "## Output\n",
    "- FILL THIS IN"
   ]
  },
  {
   "cell_type": "code",
   "execution_count": null,
   "metadata": {},
   "outputs": [
    {
     "ename": "",
     "evalue": "",
     "output_type": "error",
     "traceback": [
      "\u001b[1;31mRunning cells with '/home/richie/.conda/envs/Centipede/bin/python' requires the ipykernel package.\n",
      "\u001b[1;31mRun the following command to install 'ipykernel' into the Python environment. \n",
      "\u001b[1;31mCommand: 'conda install -p /home/richie/.conda/envs/Centipede ipykernel --update-deps --force-reinstall'"
     ]
    }
   ],
   "source": [
    "import struct\n",
    "import base64\n",
    "from collections import namedtuple\n",
    "from typing import Tuple, List\n",
    "import pandas as pd\n",
    "import os\n"
   ]
  },
  {
   "cell_type": "markdown",
   "metadata": {},
   "source": [
    "## Data opening and parsing\n",
    "- open a file to bytes\n",
    "- bytes to lists of data"
   ]
  },
  {
   "cell_type": "code",
   "execution_count": null,
   "metadata": {},
   "outputs": [
    {
     "ename": "",
     "evalue": "",
     "output_type": "error",
     "traceback": [
      "\u001b[1;31mRunning cells with '/home/richie/.conda/envs/Centipede/bin/python' requires the ipykernel package.\n",
      "\u001b[1;31mRun the following command to install 'ipykernel' into the Python environment. \n",
      "\u001b[1;31mCommand: 'conda install -p /home/richie/.conda/envs/Centipede ipykernel --update-deps --force-reinstall'"
     ]
    }
   ],
   "source": [
    "SEPARATOR = \"********\\n\"\n",
    "filename = 'data/all.cap'\n",
    "ouptut_dir = 'out2'"
   ]
  },
  {
   "cell_type": "code",
   "execution_count": null,
   "metadata": {},
   "outputs": [
    {
     "ename": "",
     "evalue": "",
     "output_type": "error",
     "traceback": [
      "\u001b[1;31mRunning cells with '/home/richie/.conda/envs/Centipede/bin/python' requires the ipykernel package.\n",
      "\u001b[1;31mRun the following command to install 'ipykernel' into the Python environment. \n",
      "\u001b[1;31mCommand: 'conda install -p /home/richie/.conda/envs/Centipede ipykernel --update-deps --force-reinstall'"
     ]
    }
   ],
   "source": [
    "def file_to_bytes(filename: str) -> Tuple[bytes, bytes, bytes, bytes, bytes]:\n",
    "    with open(filename, 'r') as f:\n",
    "        parts = f.read().split(SEPARATOR)\n",
    "        if len(parts) != 5:\n",
    "            print(\"wrong number of parts. did you remove all extra lines on top and bottom\")\n",
    "        byte_parts = [base64.b64decode(part) for part in parts]\n",
    "        return tuple(byte_parts)"
   ]
  },
  {
   "cell_type": "code",
   "execution_count": null,
   "metadata": {},
   "outputs": [
    {
     "ename": "",
     "evalue": "",
     "output_type": "error",
     "traceback": [
      "\u001b[1;31mRunning cells with '/home/richie/.conda/envs/Centipede/bin/python' requires the ipykernel package.\n",
      "\u001b[1;31mRun the following command to install 'ipykernel' into the Python environment. \n",
      "\u001b[1;31mCommand: 'conda install -p /home/richie/.conda/envs/Centipede ipykernel --update-deps --force-reinstall'"
     ]
    }
   ],
   "source": [
    "SlowData = namedtuple('SlowData', ['timestamp', 'humidity', 'temperature', 'grim_voltage', 'grim_current', 'load_cell_voltage', 'load_cell_current', 'bat_voltage', 'bat_current'])\n",
    "FastData = namedtuple('FastData', ['timestamp', 'accx', 'accy', 'accz', 'gyrox', 'gyroy', 'gyroz', 'pressure'])\n",
    "ADCData = namedtuple('ADCData', ['timestamp', 'reading'])\n",
    "# PreIMUData is FastData\n",
    "PreALTData = namedtuple('PreALTData', ['timestamp', 'pressure', 'temperature'])\n"
   ]
  },
  {
   "cell_type": "code",
   "execution_count": null,
   "metadata": {},
   "outputs": [
    {
     "ename": "",
     "evalue": "",
     "output_type": "error",
     "traceback": [
      "\u001b[1;31mRunning cells with '/home/richie/.conda/envs/Centipede/bin/python' requires the ipykernel package.\n",
      "\u001b[1;31mRun the following command to install 'ipykernel' into the Python environment. \n",
      "\u001b[1;31mCommand: 'conda install -p /home/richie/.conda/envs/Centipede ipykernel --update-deps --force-reinstall'"
     ]
    }
   ],
   "source": [
    "slow_units = SlowData('ms', '% humidity', 'degrees C', 'mV', 'mA', 'mV', 'mA', 'mV', 'mA')\n",
    "fast_units = FastData('ms', 'm/s^2', 'm/s^2', 'm/s^2', 'rad/s',  'rad/s',  'rad/s', 'kPa')\n",
    "adc_units = ADCData('ms', 'LSB')\n",
    "pre_altitude_units = PreALTData('ms', 'kPa', 'degrees C')"
   ]
  },
  {
   "cell_type": "code",
   "execution_count": null,
   "metadata": {},
   "outputs": [
    {
     "ename": "",
     "evalue": "",
     "output_type": "error",
     "traceback": [
      "\u001b[1;31mRunning cells with '/home/richie/.conda/envs/Centipede/bin/python' requires the ipykernel package.\n",
      "\u001b[1;31mRun the following command to install 'ipykernel' into the Python environment. \n",
      "\u001b[1;31mCommand: 'conda install -p /home/richie/.conda/envs/Centipede ipykernel --update-deps --force-reinstall'"
     ]
    }
   ],
   "source": [
    "slow_fmt='IffHHHHHH' # timestamp, humid, temp, (voltage, current) * 3\n",
    "fast_fmt = 'Ifffffff' # timestamp accxyz, gyro xyz, press\n",
    "adc_fmt = 'Iiiiiiiiiii' # timestamp + 10 int32s\n",
    "imu_boost_detect_fmt = fast_fmt\n",
    "alt_boost_detect_fmt = 'Iff' # timestamp, press, temp"
   ]
  },
  {
   "cell_type": "code",
   "execution_count": null,
   "metadata": {},
   "outputs": [
    {
     "ename": "",
     "evalue": "",
     "output_type": "error",
     "traceback": [
      "\u001b[1;31mRunning cells with '/home/richie/.conda/envs/Centipede/bin/python' requires the ipykernel package.\n",
      "\u001b[1;31mRun the following command to install 'ipykernel' into the Python environment. \n",
      "\u001b[1;31mCommand: 'conda install -p /home/richie/.conda/envs/Centipede ipykernel --update-deps --force-reinstall'"
     ]
    }
   ],
   "source": [
    "slow_bs, fast_bs, adc_bs, pre_imu_bs, pre_alt_bs = file_to_bytes(filename)"
   ]
  },
  {
   "cell_type": "code",
   "execution_count": null,
   "metadata": {},
   "outputs": [
    {
     "ename": "",
     "evalue": "",
     "output_type": "error",
     "traceback": [
      "\u001b[1;31mRunning cells with '/home/richie/.conda/envs/Centipede/bin/python' requires the ipykernel package.\n",
      "\u001b[1;31mRun the following command to install 'ipykernel' into the Python environment. \n",
      "\u001b[1;31mCommand: 'conda install -p /home/richie/.conda/envs/Centipede ipykernel --update-deps --force-reinstall'"
     ]
    }
   ],
   "source": [
    "def interpolate_adc(entries: List[List]) -> List[ADCData]:\n",
    "    l = []\n",
    "    for i, entry in enumerate(entries[:-1]):\n",
    "        start_time = entries[i][0]\n",
    "        period = entries[i+1][0] - entries[i][0]\n",
    "        per = period / 10.0\n",
    "        for j, sample in enumerate(entry[1:]): \n",
    "            l.append(ADCData(start_time + j * per, sample))\n",
    "    return l"
   ]
  },
  {
   "cell_type": "code",
   "execution_count": null,
   "metadata": {},
   "outputs": [
    {
     "ename": "",
     "evalue": "",
     "output_type": "error",
     "traceback": [
      "\u001b[1;31mRunning cells with '/home/richie/.conda/envs/Centipede/bin/python' requires the ipykernel package.\n",
      "\u001b[1;31mRun the following command to install 'ipykernel' into the Python environment. \n",
      "\u001b[1;31mCommand: 'conda install -p /home/richie/.conda/envs/Centipede ipykernel --update-deps --force-reinstall'"
     ]
    }
   ],
   "source": [
    "slow_lists = list(struct.iter_unpack(slow_fmt, slow_bs))\n",
    "fast_lists = list(struct.iter_unpack(fast_fmt, fast_bs))\n",
    "adc_lists = list(struct.iter_unpack(adc_fmt, adc_bs))\n",
    "pre_imu_lists = list(struct.iter_unpack(imu_boost_detect_fmt, pre_imu_bs))\n",
    "pre_alt_lists = list(struct.iter_unpack(alt_boost_detect_fmt, pre_alt_bs))\n"
   ]
  },
  {
   "cell_type": "code",
   "execution_count": null,
   "metadata": {},
   "outputs": [
    {
     "ename": "",
     "evalue": "",
     "output_type": "error",
     "traceback": [
      "\u001b[1;31mRunning cells with '/home/richie/.conda/envs/Centipede/bin/python' requires the ipykernel package.\n",
      "\u001b[1;31mRun the following command to install 'ipykernel' into the Python environment. \n",
      "\u001b[1;31mCommand: 'conda install -p /home/richie/.conda/envs/Centipede ipykernel --update-deps --force-reinstall'"
     ]
    }
   ],
   "source": [
    "def unit_slow_data(l: List) -> SlowData:\n",
    "    dr = SlowData(*l)\n",
    "    du = SlowData(dr.timestamp, dr.humidity, dr.temperature, 1.25 * dr.grim_voltage, 1.25 * dr.grim_voltage, 1.25 * dr.load_cell_voltage, 1.25 * dr.load_cell_current, 1.25 * dr.bat_voltage, 1.25 * dr.bat_current)\n",
    "    return du"
   ]
  },
  {
   "cell_type": "code",
   "execution_count": null,
   "metadata": {},
   "outputs": [
    {
     "ename": "",
     "evalue": "",
     "output_type": "error",
     "traceback": [
      "\u001b[1;31mRunning cells with '/home/richie/.conda/envs/Centipede/bin/python' requires the ipykernel package.\n",
      "\u001b[1;31mRun the following command to install 'ipykernel' into the Python environment. \n",
      "\u001b[1;31mCommand: 'conda install -p /home/richie/.conda/envs/Centipede ipykernel --update-deps --force-reinstall'"
     ]
    }
   ],
   "source": [
    "slow_data = [unit_slow_data(l) for l in slow_lists]\n",
    "fast_data = [FastData(*l) for l in fast_lists]\n",
    "adc_data = interpolate_adc(adc_lists)\n",
    "\n",
    "pre_imu_data_circ = [FastData(*l) for l in pre_imu_lists if l[0] != 0][:-14]\n",
    "# filter out timestamp = 0 (unwritten) entries\n",
    "# order by timestamp bc the circular buffer may not begin with the earliest entry\n",
    "pre_imu_data = sorted(pre_imu_data_circ, key = lambda d : d.timestamp)\n",
    "pre_alt_data = sorted([PreALTData(*l) for l in pre_alt_lists if l[0] != 0], key = lambda d : d.timestamp)"
   ]
  },
  {
   "cell_type": "code",
   "execution_count": null,
   "metadata": {},
   "outputs": [
    {
     "ename": "",
     "evalue": "",
     "output_type": "error",
     "traceback": [
      "\u001b[1;31mRunning cells with '/home/richie/.conda/envs/Centipede/bin/python' requires the ipykernel package.\n",
      "\u001b[1;31mRun the following command to install 'ipykernel' into the Python environment. \n",
      "\u001b[1;31mCommand: 'conda install -p /home/richie/.conda/envs/Centipede ipykernel --update-deps --force-reinstall'"
     ]
    }
   ],
   "source": []
  },
  {
   "cell_type": "code",
   "execution_count": null,
   "metadata": {},
   "outputs": [
    {
     "ename": "",
     "evalue": "",
     "output_type": "error",
     "traceback": [
      "\u001b[1;31mRunning cells with '/home/richie/.conda/envs/Centipede/bin/python' requires the ipykernel package.\n",
      "\u001b[1;31mRun the following command to install 'ipykernel' into the Python environment. \n",
      "\u001b[1;31mCommand: 'conda install -p /home/richie/.conda/envs/Centipede ipykernel --update-deps --force-reinstall'"
     ]
    }
   ],
   "source": [
    "slow_data_elapsed_s = (slow_data[-1].timestamp - slow_data[0].timestamp) / 1000.0\n",
    "fast_data_elapsed_s = (fast_data[-1].timestamp - fast_data[0].timestamp) / 1000.0\n",
    "adc_data_elapsed_s = (adc_data[-1].timestamp - adc_data[0].timestamp) / 1000.0\n",
    "\n",
    "flight_elapsed_s = adc_data_elapsed_s\n",
    "\n",
    "pre_alt_elapsed_ms = pre_alt_data[-1].timestamp - pre_alt_data[0].timestamp\n",
    "pre_imu_elapsed_ms = pre_imu_data[-1].timestamp - pre_imu_data[0].timestamp"
   ]
  },
  {
   "cell_type": "code",
   "execution_count": null,
   "metadata": {},
   "outputs": [
    {
     "ename": "",
     "evalue": "",
     "output_type": "error",
     "traceback": [
      "\u001b[1;31mRunning cells with '/home/richie/.conda/envs/Centipede/bin/python' requires the ipykernel package.\n",
      "\u001b[1;31mRun the following command to install 'ipykernel' into the Python environment. \n",
      "\u001b[1;31mCommand: 'conda install -p /home/richie/.conda/envs/Centipede ipykernel --update-deps --force-reinstall'"
     ]
    }
   ],
   "source": [
    "print(f\"IMU Buffer Time: {pre_imu_elapsed_ms} ms\")\n",
    "print(f\"ALT Buffer Time: {pre_alt_elapsed_ms} ms\")\n",
    "print(f\"Flight Time: {flight_elapsed_s} s\")"
   ]
  },
  {
   "cell_type": "code",
   "execution_count": null,
   "metadata": {},
   "outputs": [
    {
     "ename": "",
     "evalue": "",
     "output_type": "error",
     "traceback": [
      "\u001b[1;31mRunning cells with '/home/richie/.conda/envs/Centipede/bin/python' requires the ipykernel package.\n",
      "\u001b[1;31mRun the following command to install 'ipykernel' into the Python environment. \n",
      "\u001b[1;31mCommand: 'conda install -p /home/richie/.conda/envs/Centipede ipykernel --update-deps --force-reinstall'"
     ]
    }
   ],
   "source": [
    "percent_imu = 250 / pre_imu_elapsed_ms\n",
    "print(f\"Suggest {percent_imu} of current IMU Buffer size\")"
   ]
  },
  {
   "cell_type": "code",
   "execution_count": null,
   "metadata": {},
   "outputs": [
    {
     "ename": "",
     "evalue": "",
     "output_type": "error",
     "traceback": [
      "\u001b[1;31mRunning cells with '/home/richie/.conda/envs/Centipede/bin/python' requires the ipykernel package.\n",
      "\u001b[1;31mRun the following command to install 'ipykernel' into the Python environment. \n",
      "\u001b[1;31mCommand: 'conda install -p /home/richie/.conda/envs/Centipede ipykernel --update-deps --force-reinstall'"
     ]
    }
   ],
   "source": [
    "# calculate average period of each reading thread\n",
    "print(f\"{len(slow_data)} slow entries.  avg {flight_elapsed_s / len(slow_data)} second period\")\n",
    "print(f\"{len(fast_data)} fast entries.  avg {1000 * flight_elapsed_s / len(fast_data)} ms period\")\n",
    "print(f\"{len(adc_data)} adc entries.  avg {1000 * flight_elapsed_s / len(adc_data)} ms period\")\n"
   ]
  },
  {
   "cell_type": "code",
   "execution_count": null,
   "metadata": {},
   "outputs": [
    {
     "ename": "",
     "evalue": "",
     "output_type": "error",
     "traceback": [
      "\u001b[1;31mRunning cells with '/home/richie/.conda/envs/Centipede/bin/python' requires the ipykernel package.\n",
      "\u001b[1;31mRun the following command to install 'ipykernel' into the Python environment. \n",
      "\u001b[1;31mCommand: 'conda install -p /home/richie/.conda/envs/Centipede ipykernel --update-deps --force-reinstall'"
     ]
    }
   ],
   "source": [
    "slow_df = pd.DataFrame(slow_data)\n",
    "fast_df = pd.DataFrame(fast_data)\n",
    "adc_df = pd.DataFrame(adc_data)\n",
    "\n",
    "pre_imu_df = pd.DataFrame(pre_imu_data)\n",
    "pre_alt_df = pd.DataFrame(pre_alt_data)\n",
    "\n"
   ]
  },
  {
   "cell_type": "code",
   "execution_count": null,
   "metadata": {},
   "outputs": [
    {
     "ename": "",
     "evalue": "",
     "output_type": "error",
     "traceback": [
      "\u001b[1;31mRunning cells with '/home/richie/.conda/envs/Centipede/bin/python' requires the ipykernel package.\n",
      "\u001b[1;31mRun the following command to install 'ipykernel' into the Python environment. \n",
      "\u001b[1;31mCommand: 'conda install -p /home/richie/.conda/envs/Centipede ipykernel --update-deps --force-reinstall'"
     ]
    }
   ],
   "source": [
    "# set T=0 to start of boost accel buffer\n",
    "start = pre_imu_df['timestamp'][0]\n",
    "\n",
    "slow_df['timestamp'] = slow_df['timestamp'] - start\n",
    "fast_df['timestamp'] = fast_df['timestamp'] - start\n",
    "adc_df['timestamp'] = adc_df['timestamp'] - start\n",
    "\n",
    "pre_imu_df['timestamp'] = pre_imu_df['timestamp'] - start\n",
    "pre_alt_df['timestamp'] = pre_alt_df['timestamp'] - start"
   ]
  },
  {
   "cell_type": "code",
   "execution_count": null,
   "metadata": {},
   "outputs": [
    {
     "ename": "",
     "evalue": "",
     "output_type": "error",
     "traceback": [
      "\u001b[1;31mRunning cells with '/home/richie/.conda/envs/Centipede/bin/python' requires the ipykernel package.\n",
      "\u001b[1;31mRun the following command to install 'ipykernel' into the Python environment. \n",
      "\u001b[1;31mCommand: 'conda install -p /home/richie/.conda/envs/Centipede ipykernel --update-deps --force-reinstall'"
     ]
    }
   ],
   "source": [
    "def add_units_to_df(df: pd.DataFrame, units):\n",
    "    new_names = {}\n",
    "    for unit, (series_name, _) in zip(units, df.items()):\n",
    "        new_names[series_name] = f\"{series_name} ({unit})\"\n",
    "    return df.rename(columns=new_names)"
   ]
  },
  {
   "cell_type": "code",
   "execution_count": null,
   "metadata": {},
   "outputs": [
    {
     "ename": "",
     "evalue": "",
     "output_type": "error",
     "traceback": [
      "\u001b[1;31mRunning cells with '/home/richie/.conda/envs/Centipede/bin/python' requires the ipykernel package.\n",
      "\u001b[1;31mRun the following command to install 'ipykernel' into the Python environment. \n",
      "\u001b[1;31mCommand: 'conda install -p /home/richie/.conda/envs/Centipede ipykernel --update-deps --force-reinstall'"
     ]
    }
   ],
   "source": [
    "if not os.path.exists(ouptut_dir):\n",
    "    os.makedirs(ouptut_dir)\n",
    "\n",
    "add_units_to_df(slow_df, slow_units).to_csv(ouptut_dir+'/slow.csv', index=False)\n",
    "add_units_to_df(fast_df, fast_units).to_csv(ouptut_dir+'/fast.csv', index=False)\n",
    "add_units_to_df(adc_df, adc_units).to_csv(ouptut_dir+'/adc.csv', index=False)\n",
    "add_units_to_df(pre_alt_df, pre_altitude_units).to_csv(ouptut_dir+'/pre_imu.csv', index=False)\n",
    "add_units_to_df(pre_imu_df, fast_units).to_csv(ouptut_dir+'/pre_alt.csv', index=False)"
   ]
  },
  {
   "cell_type": "code",
   "execution_count": null,
   "metadata": {},
   "outputs": [
    {
     "ename": "",
     "evalue": "",
     "output_type": "error",
     "traceback": [
      "\u001b[1;31mRunning cells with '/home/richie/.conda/envs/Centipede/bin/python' requires the ipykernel package.\n",
      "\u001b[1;31mRun the following command to install 'ipykernel' into the Python environment. \n",
      "\u001b[1;31mCommand: 'conda install -p /home/richie/.conda/envs/Centipede ipykernel --update-deps --force-reinstall'"
     ]
    }
   ],
   "source": [
    "from functools import reduce\n",
    "\n",
    "all_dfs = [fast_df, slow_df, adc_df, pre_imu_df, pre_alt_df]\n",
    "\n",
    "df_merged = reduce(lambda  left,right: pd.merge(left,right,on=['timestamp'],\n",
    "                                            how='outer'), all_dfs)"
   ]
  },
  {
   "cell_type": "code",
   "execution_count": null,
   "metadata": {},
   "outputs": [
    {
     "ename": "",
     "evalue": "",
     "output_type": "error",
     "traceback": [
      "\u001b[1;31mRunning cells with '/home/richie/.conda/envs/Centipede/bin/python' requires the ipykernel package.\n",
      "\u001b[1;31mRun the following command to install 'ipykernel' into the Python environment. \n",
      "\u001b[1;31mCommand: 'conda install -p /home/richie/.conda/envs/Centipede ipykernel --update-deps --force-reinstall'"
     ]
    }
   ],
   "source": [
    "df_merged.interpolate(inplace=True, limit_direction='both')"
   ]
  },
  {
   "cell_type": "code",
   "execution_count": null,
   "metadata": {},
   "outputs": [
    {
     "ename": "",
     "evalue": "",
     "output_type": "error",
     "traceback": [
      "\u001b[1;31mRunning cells with '/home/richie/.conda/envs/Centipede/bin/python' requires the ipykernel package.\n",
      "\u001b[1;31mRun the following command to install 'ipykernel' into the Python environment. \n",
      "\u001b[1;31mCommand: 'conda install -p /home/richie/.conda/envs/Centipede ipykernel --update-deps --force-reinstall'"
     ]
    }
   ],
   "source": [
    "df_merged"
   ]
  },
  {
   "cell_type": "code",
   "execution_count": null,
   "metadata": {},
   "outputs": [
    {
     "ename": "",
     "evalue": "",
     "output_type": "error",
     "traceback": [
      "\u001b[1;31mRunning cells with '/home/richie/.conda/envs/Centipede/bin/python' requires the ipykernel package.\n",
      "\u001b[1;31mRun the following command to install 'ipykernel' into the Python environment. \n",
      "\u001b[1;31mCommand: 'conda install -p /home/richie/.conda/envs/Centipede ipykernel --update-deps --force-reinstall'"
     ]
    }
   ],
   "source": [
    "df_merged.sort_values('timestamp')"
   ]
  },
  {
   "cell_type": "code",
   "execution_count": null,
   "metadata": {},
   "outputs": [
    {
     "ename": "",
     "evalue": "",
     "output_type": "error",
     "traceback": [
      "\u001b[1;31mRunning cells with '/home/richie/.conda/envs/Centipede/bin/python' requires the ipykernel package.\n",
      "\u001b[1;31mRun the following command to install 'ipykernel' into the Python environment. \n",
      "\u001b[1;31mCommand: 'conda install -p /home/richie/.conda/envs/Centipede ipykernel --update-deps --force-reinstall'"
     ]
    }
   ],
   "source": [
    "df_merged.plot('timestamp')"
   ]
  },
  {
   "cell_type": "code",
   "execution_count": null,
   "metadata": {},
   "outputs": [
    {
     "ename": "",
     "evalue": "",
     "output_type": "error",
     "traceback": [
      "\u001b[1;31mRunning cells with '/home/richie/.conda/envs/Centipede/bin/python' requires the ipykernel package.\n",
      "\u001b[1;31mRun the following command to install 'ipykernel' into the Python environment. \n",
      "\u001b[1;31mCommand: 'conda install -p /home/richie/.conda/envs/Centipede ipykernel --update-deps --force-reinstall'"
     ]
    }
   ],
   "source": [
    "fast_df.plot('timestamp', title = \"Fast Sensors\")\n",
    "slow_df.plot('timestamp', title= \"Slow Sensors\")\n",
    "adc_df.plot('timestamp', title = \"ADC\")\n",
    "\n",
    "pre_imu_df.plot('timestamp', title = \"Boost Detect IMU\")\n",
    "pre_alt_df.plot('timestamp', title = \"Boost Detect Accel\")"
   ]
  },
  {
   "cell_type": "code",
   "execution_count": null,
   "metadata": {},
   "outputs": [
    {
     "ename": "",
     "evalue": "",
     "output_type": "error",
     "traceback": [
      "\u001b[1;31mRunning cells with '/home/richie/.conda/envs/Centipede/bin/python' requires the ipykernel package.\n",
      "\u001b[1;31mRun the following command to install 'ipykernel' into the Python environment. \n",
      "\u001b[1;31mCommand: 'conda install -p /home/richie/.conda/envs/Centipede ipykernel --update-deps --force-reinstall'"
     ]
    }
   ],
   "source": []
  },
  {
   "cell_type": "code",
   "execution_count": null,
   "metadata": {},
   "outputs": [
    {
     "ename": "",
     "evalue": "",
     "output_type": "error",
     "traceback": [
      "\u001b[1;31mRunning cells with '/home/richie/.conda/envs/Centipede/bin/python' requires the ipykernel package.\n",
      "\u001b[1;31mRun the following command to install 'ipykernel' into the Python environment. \n",
      "\u001b[1;31mCommand: 'conda install -p /home/richie/.conda/envs/Centipede ipykernel --update-deps --force-reinstall'"
     ]
    }
   ],
   "source": []
  },
  {
   "cell_type": "code",
   "execution_count": null,
   "metadata": {},
   "outputs": [
    {
     "ename": "",
     "evalue": "",
     "output_type": "error",
     "traceback": [
      "\u001b[1;31mRunning cells with '/home/richie/.conda/envs/Centipede/bin/python' requires the ipykernel package.\n",
      "\u001b[1;31mRun the following command to install 'ipykernel' into the Python environment. \n",
      "\u001b[1;31mCommand: 'conda install -p /home/richie/.conda/envs/Centipede ipykernel --update-deps --force-reinstall'"
     ]
    }
   ],
   "source": []
  }
 ],
 "metadata": {
  "kernelspec": {
   "display_name": "Python 3",
   "language": "python",
   "name": "python3"
  },
  "language_info": {
   "codemirror_mode": {
    "name": "ipython",
    "version": 3
   },
   "file_extension": ".py",
   "mimetype": "text/x-python",
   "name": "python",
   "nbconvert_exporter": "python",
   "pygments_lexer": "ipython3",
   "version": "3.11.7"
  }
 },
 "nbformat": 4,
 "nbformat_minor": 2
}
